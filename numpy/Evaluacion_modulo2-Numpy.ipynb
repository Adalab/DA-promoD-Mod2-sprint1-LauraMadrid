{
 "cells": [
  {
   "attachments": {},
   "cell_type": "markdown",
   "metadata": {},
   "source": [
    "### Ejercicios de NumPy\n",
    "1.  Importa la librería de NumPy.\n",
    "2. Crea un array de 1 dimension y 10 elementos.\n",
    "3.  Reemplaza todos los números impares por el valor \"par\" y los pares por \"par\". Para hacer esto os tendréis que crear un array nuevo donde vayáis añadiendo los valores nuevos.\n",
    "4. Cambiad la forma del array del ejercicio 3 a un array de 2 filas y 5 columnas.\n"
   ]
  },
  {
   "cell_type": "code",
   "execution_count": 1,
   "metadata": {},
   "outputs": [],
   "source": [
    "# importamos numpy\n",
    "\n",
    "import numpy as np\n"
   ]
  },
  {
   "cell_type": "code",
   "execution_count": 2,
   "metadata": {},
   "outputs": [
    {
     "data": {
      "text/plain": [
       "array([6, 2, 2, 0, 8, 7, 7, 2, 7, 5])"
      ]
     },
     "execution_count": 2,
     "metadata": {},
     "output_type": "execute_result"
    }
   ],
   "source": [
    "# creamos el array com elementos aleatorios com randint\n",
    "\n",
    "a = np.random.randint(0,10, (10))\n",
    "\n",
    "a"
   ]
  },
  {
   "cell_type": "code",
   "execution_count": 3,
   "metadata": {},
   "outputs": [
    {
     "data": {
      "text/plain": [
       "array(['', '', '', '', '', '', '', '', '', ''], dtype='<U5')"
      ]
     },
     "execution_count": 3,
     "metadata": {},
     "output_type": "execute_result"
    }
   ],
   "source": [
    "# creamos un array vacio para poner los elemntos los que vamos a iterar\n",
    "\n",
    "a_vacio = np.empty_like(a, dtype = \"U5\")\n",
    "\n",
    "a_vacio"
   ]
  },
  {
   "cell_type": "code",
   "execution_count": 4,
   "metadata": {},
   "outputs": [
    {
     "data": {
      "text/plain": [
       "array([6, 2, 2, 0, 8, 7, 7, 2, 7, 5])"
      ]
     },
     "execution_count": 4,
     "metadata": {},
     "output_type": "execute_result"
    }
   ],
   "source": [
    "a"
   ]
  },
  {
   "cell_type": "code",
   "execution_count": 5,
   "metadata": {},
   "outputs": [
    {
     "name": "stdout",
     "output_type": "stream",
     "text": [
      "['PAR' 'PAR' 'PAR' 'PAR' 'PAR' 'IMPAR' 'IMPAR' 'PAR' 'IMPAR' 'IMPAR']\n"
     ]
    }
   ],
   "source": [
    "#iteramos los elementos de a para ponerlos en el array vacio que hemos creado de acuerdo con las condiciones impuestas en el bulce \n",
    "\n",
    "for i in range(0,a.shape[0]):\n",
    "    if a[i] % 2 == 0:\n",
    "        a_vacio[i] = \"PAR\"\n",
    "    else:\n",
    "         a_vacio[i] = \"IMPAR\"\n",
    "         \n",
    "print(a_vacio)"
   ]
  },
  {
   "cell_type": "code",
   "execution_count": 6,
   "metadata": {},
   "outputs": [
    {
     "data": {
      "text/plain": [
       "array([['PAR', 'PAR', 'PAR', 'PAR', 'PAR'],\n",
       "       ['IMPAR', 'IMPAR', 'PAR', 'IMPAR', 'IMPAR']], dtype='<U5')"
      ]
     },
     "execution_count": 6,
     "metadata": {},
     "output_type": "execute_result"
    }
   ],
   "source": [
    "# con reshape cambiamos la forma del array vacio (podríamos haber utilizado también el método transpose)\n",
    "\n",
    "a_vacio.shape\n",
    "\n",
    "a_reshape = np.reshape(a_vacio, (2, 5))\n",
    "\n",
    "a_reshape"
   ]
  },
  {
   "attachments": {},
   "cell_type": "markdown",
   "metadata": {},
   "source": [
    "5. Extrae los elementos comunes de los siguientes arrays"
   ]
  },
  {
   "cell_type": "code",
   "execution_count": 7,
   "metadata": {},
   "outputs": [],
   "source": [
    "array1 = np.array([1,2,3,2,3,4,3,4,5,6])\n",
    "array2 = np.array([7,2,10,2,7,4,9,4,9,8])"
   ]
  },
  {
   "cell_type": "code",
   "execution_count": 8,
   "metadata": {},
   "outputs": [
    {
     "data": {
      "text/plain": [
       "array([1, 2, 3, 2, 3, 4, 3, 4, 5, 6])"
      ]
     },
     "execution_count": 8,
     "metadata": {},
     "output_type": "execute_result"
    }
   ],
   "source": [
    "array1"
   ]
  },
  {
   "cell_type": "code",
   "execution_count": 9,
   "metadata": {},
   "outputs": [
    {
     "data": {
      "text/plain": [
       "array([ 7,  2, 10,  2,  7,  4,  9,  4,  9,  8])"
      ]
     },
     "execution_count": 9,
     "metadata": {},
     "output_type": "execute_result"
    }
   ],
   "source": [
    "array2"
   ]
  },
  {
   "cell_type": "code",
   "execution_count": 10,
   "metadata": {},
   "outputs": [
    {
     "data": {
      "text/plain": [
       "array([2, 4])"
      ]
     },
     "execution_count": 10,
     "metadata": {},
     "output_type": "execute_result"
    }
   ],
   "source": [
    "np.intersect1d(array1, array2)"
   ]
  },
  {
   "attachments": {},
   "cell_type": "markdown",
   "metadata": {},
   "source": [
    "6. Extraed los elementos que están en el array1 pero no en el array2.\n",
    "7. Extraed las posiciones donde tengamos elementos que sean iguales.\n",
    "8. Cread un array de 3 filas y 5 columnas, con números enteros del 0 al 50. Una vez creado, extrae los valores que sean menores que 10 y mayores que 40.\n",
    "9. Cread un array de 5x3 con números decimales aleatorios entre el 5 y el 10.\n",
    "10. Crea un array de tres dimensiones de 2x4x7 con números entre el 1 y el 20\n",
    "- Transponed el array para que tenga 4 matrices, 7 filas y 2 columnas"
   ]
  },
  {
   "cell_type": "code",
   "execution_count": 11,
   "metadata": {},
   "outputs": [
    {
     "data": {
      "text/plain": [
       "array([1, 3, 5, 6])"
      ]
     },
     "execution_count": 11,
     "metadata": {},
     "output_type": "execute_result"
    }
   ],
   "source": [
    "# 6. con setdiff1d extraemos los elementos que están en el array1 pero no en el array2\n",
    "\n",
    "np.setdiff1d(array1, array2)"
   ]
  },
  {
   "cell_type": "code",
   "execution_count": 18,
   "metadata": {},
   "outputs": [
    {
     "data": {
      "text/plain": [
       "array([1, 2, 3, 2, 3, 4, 3, 4, 5, 6])"
      ]
     },
     "execution_count": 18,
     "metadata": {},
     "output_type": "execute_result"
    }
   ],
   "source": [
    "# 7. con npwhere extraemos los elementos que son iguales en los dos arrays\n",
    "\n",
    "array1"
   ]
  },
  {
   "cell_type": "code",
   "execution_count": 20,
   "metadata": {},
   "outputs": [
    {
     "name": "stdout",
     "output_type": "stream",
     "text": [
      " el numero 2 está en las posiciones (array([1, 3]),)\n",
      " el numero 3 está en las posiciones (array([2, 4, 6]),)\n",
      " el numero 4 está en las posiciones (array([5, 7]),)\n"
     ]
    }
   ],
   "source": [
    "print(f' el numero 2 está en las posiciones {np.where(array1 == 2)}')\n",
    "print(f' el numero 3 está en las posiciones {np.where(array1 == 3)}')\n",
    "print(f' el numero 4 está en las posiciones {np.where(array1 == 4)}')\n",
    "\n"
   ]
  },
  {
   "cell_type": "code",
   "execution_count": 19,
   "metadata": {},
   "outputs": [
    {
     "data": {
      "text/plain": [
       "array([ 7,  2, 10,  2,  7,  4,  9,  4,  9,  8])"
      ]
     },
     "execution_count": 19,
     "metadata": {},
     "output_type": "execute_result"
    }
   ],
   "source": [
    "array2"
   ]
  },
  {
   "cell_type": "code",
   "execution_count": 21,
   "metadata": {},
   "outputs": [
    {
     "name": "stdout",
     "output_type": "stream",
     "text": [
      " el numero 2 está en las posiciones (array([1, 3]),)\n",
      " el numero 4 está en las posiciones (array([5, 7]),)\n",
      " el numero 7 está en las posiciones (array([0, 4]),)\n",
      " el numero 9 está en las posiciones (array([6, 8]),)\n"
     ]
    }
   ],
   "source": [
    "print(f' el numero 2 está en las posiciones {np.where(array2 == 2)}')\n",
    "print(f' el numero 4 está en las posiciones {np.where(array2 == 4)}')\n",
    "print(f' el numero 7 está en las posiciones {np.where(array2 == 7)}')\n",
    "print(f' el numero 9 está en las posiciones {np.where(array2 == 9)}')"
   ]
  },
  {
   "cell_type": "code",
   "execution_count": 24,
   "metadata": {},
   "outputs": [
    {
     "name": "stdout",
     "output_type": "stream",
     "text": [
      "[[40 20 41  4 47]\n",
      " [46 29 18 35 17]\n",
      " [14 49 10 18 11]]\n"
     ]
    },
    {
     "data": {
      "text/plain": [
       "array([41,  4, 47, 46, 49])"
      ]
     },
     "execution_count": 24,
     "metadata": {},
     "output_type": "execute_result"
    }
   ],
   "source": [
    "# 8. con randint creamos un array con 3 filas y 5 columnas de 0-50\n",
    "\n",
    "array3 = np.random.randint(0,50, (3, 5))\n",
    "\n",
    "print(array3)\n",
    "\n",
    "# aplicamos los filtros conforme lo que pide el enunciado\n",
    "\n",
    "array3[(10>array3) | (array3>40)]"
   ]
  },
  {
   "cell_type": "code",
   "execution_count": 22,
   "metadata": {},
   "outputs": [
    {
     "data": {
      "text/plain": [
       "array([[7.17312972, 8.1435764 , 5.13803844],\n",
       "       [9.90101485, 9.65829017, 5.66053791],\n",
       "       [5.49906656, 7.84774879, 8.07313878],\n",
       "       [9.6703634 , 7.26847702, 9.49443363],\n",
       "       [6.71454134, 7.94423585, 9.74385044]])"
      ]
     },
     "execution_count": 22,
     "metadata": {},
     "output_type": "execute_result"
    }
   ],
   "source": [
    "# 9. creamos un array de 5 lineas y 3 columnas con números aleatorios decimales entre 5 y 10 con random.uniform\n",
    "\n",
    "array4 = np.random.uniform(low=5, high=10, size=(5,3))\n",
    "\n",
    "array4 "
   ]
  },
  {
   "cell_type": "code",
   "execution_count": 23,
   "metadata": {},
   "outputs": [
    {
     "data": {
      "text/plain": [
       "array([[[11, 18],\n",
       "        [17,  9],\n",
       "        [ 6,  8],\n",
       "        [ 3,  3],\n",
       "        [ 8, 13],\n",
       "        [ 3,  4],\n",
       "        [ 9, 12]],\n",
       "\n",
       "       [[ 5,  1],\n",
       "        [13, 13],\n",
       "        [ 8,  5],\n",
       "        [ 9,  3],\n",
       "        [14, 11],\n",
       "        [15,  2],\n",
       "        [11, 12]],\n",
       "\n",
       "       [[16,  1],\n",
       "        [17,  6],\n",
       "        [19,  9],\n",
       "        [ 2,  4],\n",
       "        [ 4, 10],\n",
       "        [ 1, 10],\n",
       "        [14,  1]],\n",
       "\n",
       "       [[14,  3],\n",
       "        [16,  2],\n",
       "        [19, 15],\n",
       "        [ 7, 17],\n",
       "        [ 1,  7],\n",
       "        [ 3, 12],\n",
       "        [16, 18]]])"
      ]
     },
     "execution_count": 23,
     "metadata": {},
     "output_type": "execute_result"
    }
   ],
   "source": [
    "# 10. Crea un array de tres dimensiones de 2x4x7 con números entre el 1 y el 20. \n",
    "\n",
    "\n",
    "array5 = np.random.randint(1, 20, (2,4,7))\n",
    "\n",
    "array5 \n",
    "\n",
    "# Transponemos el array para que tuviera 4 matrices, 7 filas y 2 columnas cambiando los índices del array \n",
    "\n",
    "array6 = np.transpose(array5, (1,2,0))\n",
    "\n",
    "array6"
   ]
  }
 ],
 "metadata": {
  "kernelspec": {
   "display_name": "Python 3",
   "language": "python",
   "name": "python3"
  },
  "language_info": {
   "codemirror_mode": {
    "name": "ipython",
    "version": 3
   },
   "file_extension": ".py",
   "mimetype": "text/x-python",
   "name": "python",
   "nbconvert_exporter": "python",
   "pygments_lexer": "ipython3",
   "version": "3.11.0"
  },
  "orig_nbformat": 4
 },
 "nbformat": 4,
 "nbformat_minor": 2
}
